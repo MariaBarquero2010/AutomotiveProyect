{
 "cells": [
  {
   "cell_type": "markdown",
   "id": "49e56dac",
   "metadata": {},
   "source": [
    "<center> <img SRC=\"CarAnalysis.jpg\" align=\"center\"/> </center>\n",
    "<center> <h1 style=\"color : #191970\"> Análisis Automotriz </h1> </center>\n",
    "<center> <h2 style=\"color : #778899\"> Total de Casos Resueltos </h2> </center>\n",
    "<center> <h3 style=\"color : #483D8B\"> Octubre 2021 – Noviembre 2021 </h3> </center>\n",
    "\n",
    "<p style=\"text-aling: justify\"> El siguiente análisis es un recurso importante para la rendición de cuentas y transparencia de casos trabajados en Automotive. El informe proporciona una cifra completa de los casos resueltos por los agentes de servicio al cliente y el promedio en calidad de las transacciones que fueron evaluadas durante los meses de Octubre y Noviembre del año 2021.</p>"
   ]
  },
  {
   "cell_type": "code",
   "execution_count": 74,
   "id": "105f3236",
   "metadata": {},
   "outputs": [
    {
     "ename": "SyntaxError",
     "evalue": "invalid syntax (<ipython-input-74-9c5da4f0eef6>, line 1)",
     "output_type": "error",
     "traceback": [
      "\u001b[1;36m  File \u001b[1;32m\"<ipython-input-74-9c5da4f0eef6>\"\u001b[1;36m, line \u001b[1;32m1\u001b[0m\n\u001b[1;33m    <h3 style=\"color: #00008B\">1.1 Importación de Librerías</h3>\u001b[0m\n\u001b[1;37m    ^\u001b[0m\n\u001b[1;31mSyntaxError\u001b[0m\u001b[1;31m:\u001b[0m invalid syntax\n"
     ]
    }
   ],
   "source": [
    "<h3 style=\"color: #00008B\">1.1 Importación de Librerías</h3>"
   ]
  },
  {
   "cell_type": "code",
   "execution_count": 75,
   "id": "f93f26e9",
   "metadata": {},
   "outputs": [],
   "source": [
    "import pandas as pd\n",
    "import numpy as np\n",
    "import matplotlib.pyplot as plt\n",
    "import matplotlib as mplt"
   ]
  },
  {
   "cell_type": "code",
   "execution_count": 76,
   "id": "0c60eb58",
   "metadata": {},
   "outputs": [
    {
     "ename": "SyntaxError",
     "evalue": "invalid syntax (<ipython-input-76-a3602974fc90>, line 1)",
     "output_type": "error",
     "traceback": [
      "\u001b[1;36m  File \u001b[1;32m\"<ipython-input-76-a3602974fc90>\"\u001b[1;36m, line \u001b[1;32m1\u001b[0m\n\u001b[1;33m    <h3 style=\"color: #00008B\">1.2 Carga de Archivos de Datos</h3>\u001b[0m\n\u001b[1;37m    ^\u001b[0m\n\u001b[1;31mSyntaxError\u001b[0m\u001b[1;31m:\u001b[0m invalid syntax\n"
     ]
    }
   ],
   "source": [
    "<h3 style=\"color: #00008B\">1.2 Carga de Archivos de Datos</h3>"
   ]
  },
  {
   "cell_type": "code",
   "execution_count": 77,
   "id": "e3672617",
   "metadata": {},
   "outputs": [],
   "source": [
    "cols = [\"QA Rating\", \"QA Score\", \"Case Number\", \"Date\", \"Type\", \"Case Reason\", \"Status\"]\n",
    "\n",
    "dataset = pd.read_csv(\"datosdecasos.csv\", names=cols)"
   ]
  },
  {
   "cell_type": "code",
   "execution_count": 78,
   "id": "84fb57f5",
   "metadata": {},
   "outputs": [
    {
     "data": {
      "text/plain": [
       "(12938, 7)"
      ]
     },
     "execution_count": 78,
     "metadata": {},
     "output_type": "execute_result"
    }
   ],
   "source": [
    "dataset.shape"
   ]
  },
  {
   "cell_type": "code",
   "execution_count": 79,
   "id": "791479e0",
   "metadata": {},
   "outputs": [
    {
     "data": {
      "text/html": [
       "<div>\n",
       "<style scoped>\n",
       "    .dataframe tbody tr th:only-of-type {\n",
       "        vertical-align: middle;\n",
       "    }\n",
       "\n",
       "    .dataframe tbody tr th {\n",
       "        vertical-align: top;\n",
       "    }\n",
       "\n",
       "    .dataframe thead th {\n",
       "        text-align: right;\n",
       "    }\n",
       "</style>\n",
       "<table border=\"1\" class=\"dataframe\">\n",
       "  <thead>\n",
       "    <tr style=\"text-align: right;\">\n",
       "      <th></th>\n",
       "      <th>QA Rating</th>\n",
       "      <th>QA Score</th>\n",
       "      <th>Case Number</th>\n",
       "      <th>Date</th>\n",
       "      <th>Type</th>\n",
       "      <th>Case Reason</th>\n",
       "      <th>Status</th>\n",
       "    </tr>\n",
       "  </thead>\n",
       "  <tbody>\n",
       "    <tr>\n",
       "      <th>0</th>\n",
       "      <td>NaN</td>\n",
       "      <td>NaN</td>\n",
       "      <td>22889538</td>\n",
       "      <td>10/25/2021 12:14</td>\n",
       "      <td>AIE Support</td>\n",
       "      <td>Account Management</td>\n",
       "      <td>Deferred</td>\n",
       "    </tr>\n",
       "    <tr>\n",
       "      <th>1</th>\n",
       "      <td>NaN</td>\n",
       "      <td>NaN</td>\n",
       "      <td>22822766</td>\n",
       "      <td>10/7/2021 13:24</td>\n",
       "      <td>AIE Support</td>\n",
       "      <td>Account Management</td>\n",
       "      <td>On Hold - Pending Data Source Review</td>\n",
       "    </tr>\n",
       "    <tr>\n",
       "      <th>2</th>\n",
       "      <td>NaN</td>\n",
       "      <td>NaN</td>\n",
       "      <td>22804542</td>\n",
       "      <td>10/4/2021 12:32</td>\n",
       "      <td>AIE Support</td>\n",
       "      <td>Account Management</td>\n",
       "      <td>On Hold - Pending Supervisor Review</td>\n",
       "    </tr>\n",
       "    <tr>\n",
       "      <th>3</th>\n",
       "      <td>NaN</td>\n",
       "      <td>NaN</td>\n",
       "      <td>22847397</td>\n",
       "      <td>10/14/2021 11:13</td>\n",
       "      <td>AIE Support</td>\n",
       "      <td>AIE Product Enhancement</td>\n",
       "      <td>New</td>\n",
       "    </tr>\n",
       "    <tr>\n",
       "      <th>4</th>\n",
       "      <td>NaN</td>\n",
       "      <td>NaN</td>\n",
       "      <td>22835693</td>\n",
       "      <td>10/12/2021 6:25</td>\n",
       "      <td>AIE Support</td>\n",
       "      <td>Account Management</td>\n",
       "      <td>On Hold - Pending Customer Response</td>\n",
       "    </tr>\n",
       "  </tbody>\n",
       "</table>\n",
       "</div>"
      ],
      "text/plain": [
       "  QA Rating  QA Score  Case Number              Date         Type  \\\n",
       "0       NaN       NaN     22889538  10/25/2021 12:14  AIE Support   \n",
       "1       NaN       NaN     22822766   10/7/2021 13:24  AIE Support   \n",
       "2       NaN       NaN     22804542   10/4/2021 12:32  AIE Support   \n",
       "3       NaN       NaN     22847397  10/14/2021 11:13  AIE Support   \n",
       "4       NaN       NaN     22835693   10/12/2021 6:25  AIE Support   \n",
       "\n",
       "               Case Reason                                Status  \n",
       "0       Account Management                              Deferred  \n",
       "1       Account Management  On Hold - Pending Data Source Review  \n",
       "2       Account Management   On Hold - Pending Supervisor Review  \n",
       "3  AIE Product Enhancement                                   New  \n",
       "4       Account Management   On Hold - Pending Customer Response  "
      ]
     },
     "execution_count": 79,
     "metadata": {},
     "output_type": "execute_result"
    }
   ],
   "source": [
    "dataset.head(5)"
   ]
  },
  {
   "cell_type": "code",
   "execution_count": 80,
   "id": "825eabc0",
   "metadata": {},
   "outputs": [
    {
     "data": {
      "text/html": [
       "<div>\n",
       "<style scoped>\n",
       "    .dataframe tbody tr th:only-of-type {\n",
       "        vertical-align: middle;\n",
       "    }\n",
       "\n",
       "    .dataframe tbody tr th {\n",
       "        vertical-align: top;\n",
       "    }\n",
       "\n",
       "    .dataframe thead th {\n",
       "        text-align: right;\n",
       "    }\n",
       "</style>\n",
       "<table border=\"1\" class=\"dataframe\">\n",
       "  <thead>\n",
       "    <tr style=\"text-align: right;\">\n",
       "      <th></th>\n",
       "      <th>QA Rating</th>\n",
       "      <th>QA Score</th>\n",
       "      <th>Case Number</th>\n",
       "      <th>Date</th>\n",
       "      <th>Type</th>\n",
       "      <th>Case Reason</th>\n",
       "      <th>Status</th>\n",
       "    </tr>\n",
       "  </thead>\n",
       "  <tbody>\n",
       "    <tr>\n",
       "      <th>12933</th>\n",
       "      <td>NaN</td>\n",
       "      <td>NaN</td>\n",
       "      <td>22948248</td>\n",
       "      <td>11/9/2021 12:37</td>\n",
       "      <td>Vin Gateway</td>\n",
       "      <td>Account Management</td>\n",
       "      <td>Closed - Complete</td>\n",
       "    </tr>\n",
       "    <tr>\n",
       "      <th>12934</th>\n",
       "      <td>NaN</td>\n",
       "      <td>NaN</td>\n",
       "      <td>22980516</td>\n",
       "      <td>11/17/2021 14:53</td>\n",
       "      <td>Vin Gateway</td>\n",
       "      <td>Account Management</td>\n",
       "      <td>Closed Resolved</td>\n",
       "    </tr>\n",
       "    <tr>\n",
       "      <th>12935</th>\n",
       "      <td>NaN</td>\n",
       "      <td>NaN</td>\n",
       "      <td>22968184</td>\n",
       "      <td>11/15/2021 13:56</td>\n",
       "      <td>Vin Gateway</td>\n",
       "      <td>Account Management</td>\n",
       "      <td>Closed Resolved</td>\n",
       "    </tr>\n",
       "    <tr>\n",
       "      <th>12936</th>\n",
       "      <td>NaN</td>\n",
       "      <td>NaN</td>\n",
       "      <td>22967850</td>\n",
       "      <td>11/15/2021 10:58</td>\n",
       "      <td>Vin Gateway</td>\n",
       "      <td>Account Management</td>\n",
       "      <td>Closed Resolved</td>\n",
       "    </tr>\n",
       "    <tr>\n",
       "      <th>12937</th>\n",
       "      <td>NaN</td>\n",
       "      <td>NaN</td>\n",
       "      <td>22915993</td>\n",
       "      <td>11/1/2021 10:30</td>\n",
       "      <td>Vin Gateway</td>\n",
       "      <td>Account Management</td>\n",
       "      <td>Closed Resolved</td>\n",
       "    </tr>\n",
       "  </tbody>\n",
       "</table>\n",
       "</div>"
      ],
      "text/plain": [
       "      QA Rating  QA Score  Case Number              Date         Type  \\\n",
       "12933       NaN       NaN     22948248   11/9/2021 12:37  Vin Gateway   \n",
       "12934       NaN       NaN     22980516  11/17/2021 14:53  Vin Gateway   \n",
       "12935       NaN       NaN     22968184  11/15/2021 13:56  Vin Gateway   \n",
       "12936       NaN       NaN     22967850  11/15/2021 10:58  Vin Gateway   \n",
       "12937       NaN       NaN     22915993   11/1/2021 10:30  Vin Gateway   \n",
       "\n",
       "              Case Reason             Status  \n",
       "12933  Account Management  Closed - Complete  \n",
       "12934  Account Management    Closed Resolved  \n",
       "12935  Account Management    Closed Resolved  \n",
       "12936  Account Management    Closed Resolved  \n",
       "12937  Account Management    Closed Resolved  "
      ]
     },
     "execution_count": 80,
     "metadata": {},
     "output_type": "execute_result"
    }
   ],
   "source": [
    "dataset.tail()"
   ]
  },
  {
   "cell_type": "code",
   "execution_count": 81,
   "id": "51b1067f",
   "metadata": {},
   "outputs": [
    {
     "ename": "SyntaxError",
     "evalue": "invalid syntax (<ipython-input-81-15b66b6786f5>, line 1)",
     "output_type": "error",
     "traceback": [
      "\u001b[1;36m  File \u001b[1;32m\"<ipython-input-81-15b66b6786f5>\"\u001b[1;36m, line \u001b[1;32m1\u001b[0m\n\u001b[1;33m    <h3 style=\"color: #00008B\">1.3 Revisar los Encabezados</h3>\u001b[0m\n\u001b[1;37m    ^\u001b[0m\n\u001b[1;31mSyntaxError\u001b[0m\u001b[1;31m:\u001b[0m invalid syntax\n"
     ]
    }
   ],
   "source": [
    "<h3 style=\"color: #00008B\">1.3 Revisar los Encabezados</h3>"
   ]
  },
  {
   "cell_type": "code",
   "execution_count": 82,
   "id": "9aefa4a6",
   "metadata": {},
   "outputs": [
    {
     "name": "stdout",
     "output_type": "stream",
     "text": [
      "<class 'pandas.core.frame.DataFrame'>\n",
      "RangeIndex: 12938 entries, 0 to 12937\n",
      "Data columns (total 7 columns):\n",
      " #   Column       Non-Null Count  Dtype  \n",
      "---  ------       --------------  -----  \n",
      " 0   QA Rating    452 non-null    object \n",
      " 1   QA Score     451 non-null    float64\n",
      " 2   Case Number  12938 non-null  int64  \n",
      " 3   Date         12938 non-null  object \n",
      " 4   Type         12938 non-null  object \n",
      " 5   Case Reason  12751 non-null  object \n",
      " 6   Status       12938 non-null  object \n",
      "dtypes: float64(1), int64(1), object(5)\n",
      "memory usage: 707.7+ KB\n"
     ]
    }
   ],
   "source": [
    "dataset.info()"
   ]
  },
  {
   "cell_type": "code",
   "execution_count": 83,
   "id": "c6b2c1dd",
   "metadata": {},
   "outputs": [
    {
     "data": {
      "text/plain": [
       "Index(['QA Rating', 'QA Score', 'Case Number', 'Date', 'Type', 'Case Reason',\n",
       "       'Status'],\n",
       "      dtype='object')"
      ]
     },
     "execution_count": 83,
     "metadata": {},
     "output_type": "execute_result"
    }
   ],
   "source": [
    "dataset.columns"
   ]
  },
  {
   "cell_type": "markdown",
   "id": "0072ab86",
   "metadata": {},
   "source": [
    "<h2 style=\"color: #483D8B\"> 2. Datos Faltantes o Perdidos</h2>"
   ]
  },
  {
   "cell_type": "markdown",
   "id": "30e4086b",
   "metadata": {},
   "source": [
    "<h3 style=\"color: #2F4F4F\"> 2.1 Identificacion de Valores Faltantes o Perdidos y Estandarización </h3>"
   ]
  },
  {
   "cell_type": "code",
   "execution_count": 84,
   "id": "683e86b4",
   "metadata": {},
   "outputs": [
    {
     "data": {
      "text/html": [
       "<div>\n",
       "<style scoped>\n",
       "    .dataframe tbody tr th:only-of-type {\n",
       "        vertical-align: middle;\n",
       "    }\n",
       "\n",
       "    .dataframe tbody tr th {\n",
       "        vertical-align: top;\n",
       "    }\n",
       "\n",
       "    .dataframe thead th {\n",
       "        text-align: right;\n",
       "    }\n",
       "</style>\n",
       "<table border=\"1\" class=\"dataframe\">\n",
       "  <thead>\n",
       "    <tr style=\"text-align: right;\">\n",
       "      <th></th>\n",
       "      <th>QA Rating</th>\n",
       "      <th>QA Score</th>\n",
       "      <th>Case Number</th>\n",
       "      <th>Date</th>\n",
       "      <th>Type</th>\n",
       "      <th>Case Reason</th>\n",
       "      <th>Status</th>\n",
       "    </tr>\n",
       "  </thead>\n",
       "  <tbody>\n",
       "    <tr>\n",
       "      <th>0</th>\n",
       "      <td>NaN</td>\n",
       "      <td>NaN</td>\n",
       "      <td>22889538</td>\n",
       "      <td>10/25/2021 12:14</td>\n",
       "      <td>AIE Support</td>\n",
       "      <td>Account Management</td>\n",
       "      <td>Deferred</td>\n",
       "    </tr>\n",
       "    <tr>\n",
       "      <th>1</th>\n",
       "      <td>NaN</td>\n",
       "      <td>NaN</td>\n",
       "      <td>22822766</td>\n",
       "      <td>10/7/2021 13:24</td>\n",
       "      <td>AIE Support</td>\n",
       "      <td>Account Management</td>\n",
       "      <td>On Hold - Pending Data Source Review</td>\n",
       "    </tr>\n",
       "    <tr>\n",
       "      <th>2</th>\n",
       "      <td>NaN</td>\n",
       "      <td>NaN</td>\n",
       "      <td>22804542</td>\n",
       "      <td>10/4/2021 12:32</td>\n",
       "      <td>AIE Support</td>\n",
       "      <td>Account Management</td>\n",
       "      <td>On Hold - Pending Supervisor Review</td>\n",
       "    </tr>\n",
       "    <tr>\n",
       "      <th>3</th>\n",
       "      <td>NaN</td>\n",
       "      <td>NaN</td>\n",
       "      <td>22847397</td>\n",
       "      <td>10/14/2021 11:13</td>\n",
       "      <td>AIE Support</td>\n",
       "      <td>AIE Product Enhancement</td>\n",
       "      <td>New</td>\n",
       "    </tr>\n",
       "    <tr>\n",
       "      <th>4</th>\n",
       "      <td>NaN</td>\n",
       "      <td>NaN</td>\n",
       "      <td>22835693</td>\n",
       "      <td>10/12/2021 6:25</td>\n",
       "      <td>AIE Support</td>\n",
       "      <td>Account Management</td>\n",
       "      <td>On Hold - Pending Customer Response</td>\n",
       "    </tr>\n",
       "    <tr>\n",
       "      <th>...</th>\n",
       "      <td>...</td>\n",
       "      <td>...</td>\n",
       "      <td>...</td>\n",
       "      <td>...</td>\n",
       "      <td>...</td>\n",
       "      <td>...</td>\n",
       "      <td>...</td>\n",
       "    </tr>\n",
       "    <tr>\n",
       "      <th>12933</th>\n",
       "      <td>NaN</td>\n",
       "      <td>NaN</td>\n",
       "      <td>22948248</td>\n",
       "      <td>11/9/2021 12:37</td>\n",
       "      <td>Vin Gateway</td>\n",
       "      <td>Account Management</td>\n",
       "      <td>Closed - Complete</td>\n",
       "    </tr>\n",
       "    <tr>\n",
       "      <th>12934</th>\n",
       "      <td>NaN</td>\n",
       "      <td>NaN</td>\n",
       "      <td>22980516</td>\n",
       "      <td>11/17/2021 14:53</td>\n",
       "      <td>Vin Gateway</td>\n",
       "      <td>Account Management</td>\n",
       "      <td>Closed Resolved</td>\n",
       "    </tr>\n",
       "    <tr>\n",
       "      <th>12935</th>\n",
       "      <td>NaN</td>\n",
       "      <td>NaN</td>\n",
       "      <td>22968184</td>\n",
       "      <td>11/15/2021 13:56</td>\n",
       "      <td>Vin Gateway</td>\n",
       "      <td>Account Management</td>\n",
       "      <td>Closed Resolved</td>\n",
       "    </tr>\n",
       "    <tr>\n",
       "      <th>12936</th>\n",
       "      <td>NaN</td>\n",
       "      <td>NaN</td>\n",
       "      <td>22967850</td>\n",
       "      <td>11/15/2021 10:58</td>\n",
       "      <td>Vin Gateway</td>\n",
       "      <td>Account Management</td>\n",
       "      <td>Closed Resolved</td>\n",
       "    </tr>\n",
       "    <tr>\n",
       "      <th>12937</th>\n",
       "      <td>NaN</td>\n",
       "      <td>NaN</td>\n",
       "      <td>22915993</td>\n",
       "      <td>11/1/2021 10:30</td>\n",
       "      <td>Vin Gateway</td>\n",
       "      <td>Account Management</td>\n",
       "      <td>Closed Resolved</td>\n",
       "    </tr>\n",
       "  </tbody>\n",
       "</table>\n",
       "<p>12938 rows × 7 columns</p>\n",
       "</div>"
      ],
      "text/plain": [
       "      QA Rating  QA Score  Case Number              Date         Type  \\\n",
       "0           NaN       NaN     22889538  10/25/2021 12:14  AIE Support   \n",
       "1           NaN       NaN     22822766   10/7/2021 13:24  AIE Support   \n",
       "2           NaN       NaN     22804542   10/4/2021 12:32  AIE Support   \n",
       "3           NaN       NaN     22847397  10/14/2021 11:13  AIE Support   \n",
       "4           NaN       NaN     22835693   10/12/2021 6:25  AIE Support   \n",
       "...         ...       ...          ...               ...          ...   \n",
       "12933       NaN       NaN     22948248   11/9/2021 12:37  Vin Gateway   \n",
       "12934       NaN       NaN     22980516  11/17/2021 14:53  Vin Gateway   \n",
       "12935       NaN       NaN     22968184  11/15/2021 13:56  Vin Gateway   \n",
       "12936       NaN       NaN     22967850  11/15/2021 10:58  Vin Gateway   \n",
       "12937       NaN       NaN     22915993   11/1/2021 10:30  Vin Gateway   \n",
       "\n",
       "                   Case Reason                                Status  \n",
       "0           Account Management                              Deferred  \n",
       "1           Account Management  On Hold - Pending Data Source Review  \n",
       "2           Account Management   On Hold - Pending Supervisor Review  \n",
       "3      AIE Product Enhancement                                   New  \n",
       "4           Account Management   On Hold - Pending Customer Response  \n",
       "...                        ...                                   ...  \n",
       "12933       Account Management                     Closed - Complete  \n",
       "12934       Account Management                       Closed Resolved  \n",
       "12935       Account Management                       Closed Resolved  \n",
       "12936       Account Management                       Closed Resolved  \n",
       "12937       Account Management                       Closed Resolved  \n",
       "\n",
       "[12938 rows x 7 columns]"
      ]
     },
     "execution_count": 84,
     "metadata": {},
     "output_type": "execute_result"
    }
   ],
   "source": [
    "dataset"
   ]
  },
  {
   "cell_type": "code",
   "execution_count": 85,
   "id": "432ed445",
   "metadata": {},
   "outputs": [
    {
     "data": {
      "text/plain": [
       "QA Rating      None\n",
       "QA Score       None\n",
       "Case Number    None\n",
       "Date           None\n",
       "Type           None\n",
       "Case Reason    None\n",
       "Status         None\n",
       "dtype: object"
      ]
     },
     "execution_count": 85,
     "metadata": {},
     "output_type": "execute_result"
    }
   ],
   "source": [
    "dataset.replace(np.nan, inplace=True)"
   ]
  },
  {
   "cell_type": "code",
   "execution_count": 86,
   "id": "b6f409dc",
   "metadata": {},
   "outputs": [
    {
     "data": {
      "text/html": [
       "<div>\n",
       "<style scoped>\n",
       "    .dataframe tbody tr th:only-of-type {\n",
       "        vertical-align: middle;\n",
       "    }\n",
       "\n",
       "    .dataframe tbody tr th {\n",
       "        vertical-align: top;\n",
       "    }\n",
       "\n",
       "    .dataframe thead th {\n",
       "        text-align: right;\n",
       "    }\n",
       "</style>\n",
       "<table border=\"1\" class=\"dataframe\">\n",
       "  <thead>\n",
       "    <tr style=\"text-align: right;\">\n",
       "      <th></th>\n",
       "      <th>QA Rating</th>\n",
       "      <th>QA Score</th>\n",
       "      <th>Case Number</th>\n",
       "      <th>Date</th>\n",
       "      <th>Type</th>\n",
       "      <th>Case Reason</th>\n",
       "      <th>Status</th>\n",
       "    </tr>\n",
       "  </thead>\n",
       "  <tbody>\n",
       "    <tr>\n",
       "      <th>0</th>\n",
       "      <td>NaN</td>\n",
       "      <td>NaN</td>\n",
       "      <td>22889538</td>\n",
       "      <td>10/25/2021 12:14</td>\n",
       "      <td>AIE Support</td>\n",
       "      <td>Account Management</td>\n",
       "      <td>Deferred</td>\n",
       "    </tr>\n",
       "    <tr>\n",
       "      <th>1</th>\n",
       "      <td>NaN</td>\n",
       "      <td>NaN</td>\n",
       "      <td>22822766</td>\n",
       "      <td>10/7/2021 13:24</td>\n",
       "      <td>AIE Support</td>\n",
       "      <td>Account Management</td>\n",
       "      <td>On Hold - Pending Data Source Review</td>\n",
       "    </tr>\n",
       "    <tr>\n",
       "      <th>2</th>\n",
       "      <td>NaN</td>\n",
       "      <td>NaN</td>\n",
       "      <td>22804542</td>\n",
       "      <td>10/4/2021 12:32</td>\n",
       "      <td>AIE Support</td>\n",
       "      <td>Account Management</td>\n",
       "      <td>On Hold - Pending Supervisor Review</td>\n",
       "    </tr>\n",
       "    <tr>\n",
       "      <th>3</th>\n",
       "      <td>NaN</td>\n",
       "      <td>NaN</td>\n",
       "      <td>22847397</td>\n",
       "      <td>10/14/2021 11:13</td>\n",
       "      <td>AIE Support</td>\n",
       "      <td>AIE Product Enhancement</td>\n",
       "      <td>New</td>\n",
       "    </tr>\n",
       "    <tr>\n",
       "      <th>4</th>\n",
       "      <td>NaN</td>\n",
       "      <td>NaN</td>\n",
       "      <td>22835693</td>\n",
       "      <td>10/12/2021 6:25</td>\n",
       "      <td>AIE Support</td>\n",
       "      <td>Account Management</td>\n",
       "      <td>On Hold - Pending Customer Response</td>\n",
       "    </tr>\n",
       "  </tbody>\n",
       "</table>\n",
       "</div>"
      ],
      "text/plain": [
       "  QA Rating  QA Score  Case Number              Date         Type  \\\n",
       "0       NaN       NaN     22889538  10/25/2021 12:14  AIE Support   \n",
       "1       NaN       NaN     22822766   10/7/2021 13:24  AIE Support   \n",
       "2       NaN       NaN     22804542   10/4/2021 12:32  AIE Support   \n",
       "3       NaN       NaN     22847397  10/14/2021 11:13  AIE Support   \n",
       "4       NaN       NaN     22835693   10/12/2021 6:25  AIE Support   \n",
       "\n",
       "               Case Reason                                Status  \n",
       "0       Account Management                              Deferred  \n",
       "1       Account Management  On Hold - Pending Data Source Review  \n",
       "2       Account Management   On Hold - Pending Supervisor Review  \n",
       "3  AIE Product Enhancement                                   New  \n",
       "4       Account Management   On Hold - Pending Customer Response  "
      ]
     },
     "execution_count": 86,
     "metadata": {},
     "output_type": "execute_result"
    }
   ],
   "source": [
    "dataset.head(5)"
   ]
  },
  {
   "cell_type": "code",
   "execution_count": 87,
   "id": "00e2e549",
   "metadata": {},
   "outputs": [
    {
     "data": {
      "text/html": [
       "<div>\n",
       "<style scoped>\n",
       "    .dataframe tbody tr th:only-of-type {\n",
       "        vertical-align: middle;\n",
       "    }\n",
       "\n",
       "    .dataframe tbody tr th {\n",
       "        vertical-align: top;\n",
       "    }\n",
       "\n",
       "    .dataframe thead th {\n",
       "        text-align: right;\n",
       "    }\n",
       "</style>\n",
       "<table border=\"1\" class=\"dataframe\">\n",
       "  <thead>\n",
       "    <tr style=\"text-align: right;\">\n",
       "      <th></th>\n",
       "      <th>QA Rating</th>\n",
       "      <th>QA Score</th>\n",
       "      <th>Case Number</th>\n",
       "      <th>Date</th>\n",
       "      <th>Type</th>\n",
       "      <th>Case Reason</th>\n",
       "      <th>Status</th>\n",
       "    </tr>\n",
       "  </thead>\n",
       "  <tbody>\n",
       "    <tr>\n",
       "      <th>12933</th>\n",
       "      <td>Pass</td>\n",
       "      <td>94.23</td>\n",
       "      <td>22948248</td>\n",
       "      <td>11/9/2021 12:37</td>\n",
       "      <td>Vin Gateway</td>\n",
       "      <td>Account Management</td>\n",
       "      <td>Closed - Complete</td>\n",
       "    </tr>\n",
       "    <tr>\n",
       "      <th>12934</th>\n",
       "      <td>Pass</td>\n",
       "      <td>94.23</td>\n",
       "      <td>22980516</td>\n",
       "      <td>11/17/2021 14:53</td>\n",
       "      <td>Vin Gateway</td>\n",
       "      <td>Account Management</td>\n",
       "      <td>Closed Resolved</td>\n",
       "    </tr>\n",
       "    <tr>\n",
       "      <th>12935</th>\n",
       "      <td>Pass</td>\n",
       "      <td>94.23</td>\n",
       "      <td>22968184</td>\n",
       "      <td>11/15/2021 13:56</td>\n",
       "      <td>Vin Gateway</td>\n",
       "      <td>Account Management</td>\n",
       "      <td>Closed Resolved</td>\n",
       "    </tr>\n",
       "    <tr>\n",
       "      <th>12936</th>\n",
       "      <td>Pass</td>\n",
       "      <td>94.23</td>\n",
       "      <td>22967850</td>\n",
       "      <td>11/15/2021 10:58</td>\n",
       "      <td>Vin Gateway</td>\n",
       "      <td>Account Management</td>\n",
       "      <td>Closed Resolved</td>\n",
       "    </tr>\n",
       "    <tr>\n",
       "      <th>12937</th>\n",
       "      <td>Pass</td>\n",
       "      <td>94.23</td>\n",
       "      <td>22915993</td>\n",
       "      <td>11/1/2021 10:30</td>\n",
       "      <td>Vin Gateway</td>\n",
       "      <td>Account Management</td>\n",
       "      <td>Closed Resolved</td>\n",
       "    </tr>\n",
       "  </tbody>\n",
       "</table>\n",
       "</div>"
      ],
      "text/plain": [
       "      QA Rating  QA Score  Case Number              Date         Type  \\\n",
       "12933      Pass     94.23     22948248   11/9/2021 12:37  Vin Gateway   \n",
       "12934      Pass     94.23     22980516  11/17/2021 14:53  Vin Gateway   \n",
       "12935      Pass     94.23     22968184  11/15/2021 13:56  Vin Gateway   \n",
       "12936      Pass     94.23     22967850  11/15/2021 10:58  Vin Gateway   \n",
       "12937      Pass     94.23     22915993   11/1/2021 10:30  Vin Gateway   \n",
       "\n",
       "              Case Reason             Status  \n",
       "12933  Account Management  Closed - Complete  \n",
       "12934  Account Management    Closed Resolved  \n",
       "12935  Account Management    Closed Resolved  \n",
       "12936  Account Management    Closed Resolved  \n",
       "12937  Account Management    Closed Resolved  "
      ]
     },
     "execution_count": 87,
     "metadata": {},
     "output_type": "execute_result"
    }
   ],
   "source": [
    "dataset.tail(5)"
   ]
  },
  {
   "cell_type": "code",
   "execution_count": 159,
   "id": "33ff36bb",
   "metadata": {},
   "outputs": [
    {
     "ename": "SyntaxError",
     "evalue": "invalid syntax (<ipython-input-159-7be9d53bce10>, line 1)",
     "output_type": "error",
     "traceback": [
      "\u001b[1;36m  File \u001b[1;32m\"<ipython-input-159-7be9d53bce10>\"\u001b[1;36m, line \u001b[1;32m1\u001b[0m\n\u001b[1;33m    <h3 style=\"color: #00008B\"> 2.2 Contar los Valores Faltantes o Perdidos por Variable</h3>\u001b[0m\n\u001b[1;37m    ^\u001b[0m\n\u001b[1;31mSyntaxError\u001b[0m\u001b[1;31m:\u001b[0m invalid syntax\n"
     ]
    }
   ],
   "source": [
    "<h3 style=\"color: #00008B\"> 2.2 Contar los Valores Faltantes o Perdidos por Variable</h3>"
   ]
  },
  {
   "cell_type": "code",
   "execution_count": 152,
   "id": "7ee05275",
   "metadata": {},
   "outputs": [
    {
     "data": {
      "text/html": [
       "<div>\n",
       "<style scoped>\n",
       "    .dataframe tbody tr th:only-of-type {\n",
       "        vertical-align: middle;\n",
       "    }\n",
       "\n",
       "    .dataframe tbody tr th {\n",
       "        vertical-align: top;\n",
       "    }\n",
       "\n",
       "    .dataframe thead th {\n",
       "        text-align: right;\n",
       "    }\n",
       "</style>\n",
       "<table border=\"1\" class=\"dataframe\">\n",
       "  <thead>\n",
       "    <tr style=\"text-align: right;\">\n",
       "      <th></th>\n",
       "      <th>QA Rating</th>\n",
       "      <th>QA Score</th>\n",
       "      <th>Case Number</th>\n",
       "      <th>Date</th>\n",
       "      <th>Type</th>\n",
       "      <th>Case Reason</th>\n",
       "      <th>Status</th>\n",
       "    </tr>\n",
       "  </thead>\n",
       "  <tbody>\n",
       "    <tr>\n",
       "      <th>0</th>\n",
       "      <td>True</td>\n",
       "      <td>True</td>\n",
       "      <td>False</td>\n",
       "      <td>False</td>\n",
       "      <td>False</td>\n",
       "      <td>False</td>\n",
       "      <td>False</td>\n",
       "    </tr>\n",
       "    <tr>\n",
       "      <th>1</th>\n",
       "      <td>True</td>\n",
       "      <td>True</td>\n",
       "      <td>False</td>\n",
       "      <td>False</td>\n",
       "      <td>False</td>\n",
       "      <td>False</td>\n",
       "      <td>False</td>\n",
       "    </tr>\n",
       "    <tr>\n",
       "      <th>2</th>\n",
       "      <td>True</td>\n",
       "      <td>True</td>\n",
       "      <td>False</td>\n",
       "      <td>False</td>\n",
       "      <td>False</td>\n",
       "      <td>False</td>\n",
       "      <td>False</td>\n",
       "    </tr>\n",
       "    <tr>\n",
       "      <th>3</th>\n",
       "      <td>True</td>\n",
       "      <td>True</td>\n",
       "      <td>False</td>\n",
       "      <td>False</td>\n",
       "      <td>False</td>\n",
       "      <td>False</td>\n",
       "      <td>False</td>\n",
       "    </tr>\n",
       "    <tr>\n",
       "      <th>4</th>\n",
       "      <td>True</td>\n",
       "      <td>True</td>\n",
       "      <td>False</td>\n",
       "      <td>False</td>\n",
       "      <td>False</td>\n",
       "      <td>False</td>\n",
       "      <td>False</td>\n",
       "    </tr>\n",
       "  </tbody>\n",
       "</table>\n",
       "</div>"
      ],
      "text/plain": [
       "   QA Rating  QA Score  Case Number   Date   Type  Case Reason  Status\n",
       "0       True      True        False  False  False        False   False\n",
       "1       True      True        False  False  False        False   False\n",
       "2       True      True        False  False  False        False   False\n",
       "3       True      True        False  False  False        False   False\n",
       "4       True      True        False  False  False        False   False"
      ]
     },
     "execution_count": 152,
     "metadata": {},
     "output_type": "execute_result"
    }
   ],
   "source": [
    "valoresPerdidos = dataset.isnull()\n",
    "valoresPerdidos.head(5)"
   ]
  },
  {
   "cell_type": "code",
   "execution_count": 153,
   "id": "2b0c9d55",
   "metadata": {},
   "outputs": [
    {
     "name": "stdout",
     "output_type": "stream",
     "text": [
      "QA Rating\n",
      "False    12904\n",
      "True        34\n",
      "Name: QA Rating, dtype: int64\n",
      "\n",
      "QA Score\n",
      "False    12904\n",
      "True        34\n",
      "Name: QA Score, dtype: int64\n",
      "\n",
      "Case Number\n",
      "False    12938\n",
      "Name: Case Number, dtype: int64\n",
      "\n",
      "Date\n",
      "False    12938\n",
      "Name: Date, dtype: int64\n",
      "\n",
      "Type\n",
      "False    12938\n",
      "Name: Type, dtype: int64\n",
      "\n",
      "Case Reason\n",
      "False    12938\n",
      "Name: Case Reason, dtype: int64\n",
      "\n",
      "Status\n",
      "False    12938\n",
      "Name: Status, dtype: int64\n",
      "\n"
     ]
    }
   ],
   "source": [
    "for column in valoresPerdidos.columns.values.tolist():\n",
    "    print(column)\n",
    "    print(valoresPerdidos[column].value_counts())\n",
    "    print(\"\")"
   ]
  },
  {
   "cell_type": "code",
   "execution_count": 160,
   "id": "f0db6b44",
   "metadata": {},
   "outputs": [
    {
     "ename": "SyntaxError",
     "evalue": "invalid syntax (<ipython-input-160-fb897c666b1f>, line 1)",
     "output_type": "error",
     "traceback": [
      "\u001b[1;36m  File \u001b[1;32m\"<ipython-input-160-fb897c666b1f>\"\u001b[1;36m, line \u001b[1;32m1\u001b[0m\n\u001b[1;33m    <<h3 style=\"color: #2F4F4F\"> 2.3 Imputar Valores Numericos con la Media</h3>\u001b[0m\n\u001b[1;37m    ^\u001b[0m\n\u001b[1;31mSyntaxError\u001b[0m\u001b[1;31m:\u001b[0m invalid syntax\n"
     ]
    }
   ],
   "source": [
    "<<h3 style=\"color: #2F4F4F\"> 2.3 Imputar Valores Numericos con la Media</h3>"
   ]
  },
  {
   "cell_type": "code",
   "execution_count": 155,
   "id": "ef46d440",
   "metadata": {},
   "outputs": [
    {
     "ename": "KeyError",
     "evalue": "'perdidasNormalizadas'",
     "output_type": "error",
     "traceback": [
      "\u001b[1;31m---------------------------------------------------------------------------\u001b[0m",
      "\u001b[1;31mKeyError\u001b[0m                                  Traceback (most recent call last)",
      "\u001b[1;32m~\\anaconda3\\lib\\site-packages\\pandas\\core\\indexes\\base.py\u001b[0m in \u001b[0;36mget_loc\u001b[1;34m(self, key, method, tolerance)\u001b[0m\n\u001b[0;32m   3079\u001b[0m             \u001b[1;32mtry\u001b[0m\u001b[1;33m:\u001b[0m\u001b[1;33m\u001b[0m\u001b[1;33m\u001b[0m\u001b[0m\n\u001b[1;32m-> 3080\u001b[1;33m                 \u001b[1;32mreturn\u001b[0m \u001b[0mself\u001b[0m\u001b[1;33m.\u001b[0m\u001b[0m_engine\u001b[0m\u001b[1;33m.\u001b[0m\u001b[0mget_loc\u001b[0m\u001b[1;33m(\u001b[0m\u001b[0mcasted_key\u001b[0m\u001b[1;33m)\u001b[0m\u001b[1;33m\u001b[0m\u001b[1;33m\u001b[0m\u001b[0m\n\u001b[0m\u001b[0;32m   3081\u001b[0m             \u001b[1;32mexcept\u001b[0m \u001b[0mKeyError\u001b[0m \u001b[1;32mas\u001b[0m \u001b[0merr\u001b[0m\u001b[1;33m:\u001b[0m\u001b[1;33m\u001b[0m\u001b[1;33m\u001b[0m\u001b[0m\n",
      "\u001b[1;32mpandas\\_libs\\index.pyx\u001b[0m in \u001b[0;36mpandas._libs.index.IndexEngine.get_loc\u001b[1;34m()\u001b[0m\n",
      "\u001b[1;32mpandas\\_libs\\index.pyx\u001b[0m in \u001b[0;36mpandas._libs.index.IndexEngine.get_loc\u001b[1;34m()\u001b[0m\n",
      "\u001b[1;32mpandas\\_libs\\hashtable_class_helper.pxi\u001b[0m in \u001b[0;36mpandas._libs.hashtable.PyObjectHashTable.get_item\u001b[1;34m()\u001b[0m\n",
      "\u001b[1;32mpandas\\_libs\\hashtable_class_helper.pxi\u001b[0m in \u001b[0;36mpandas._libs.hashtable.PyObjectHashTable.get_item\u001b[1;34m()\u001b[0m\n",
      "\u001b[1;31mKeyError\u001b[0m: 'perdidasNormalizadas'",
      "\nThe above exception was the direct cause of the following exception:\n",
      "\u001b[1;31mKeyError\u001b[0m                                  Traceback (most recent call last)",
      "\u001b[1;32m<ipython-input-155-95b0a5c80951>\u001b[0m in \u001b[0;36m<module>\u001b[1;34m\u001b[0m\n\u001b[1;32m----> 1\u001b[1;33m \u001b[0mavg_norm\u001b[0m \u001b[1;33m=\u001b[0m \u001b[0mdataset\u001b[0m\u001b[1;33m[\u001b[0m\u001b[1;34m\"perdidasNormalizadas\"\u001b[0m\u001b[1;33m]\u001b[0m\u001b[1;33m.\u001b[0m\u001b[0mastype\u001b[0m\u001b[1;33m(\u001b[0m\u001b[1;34m\"float\"\u001b[0m\u001b[1;33m)\u001b[0m\u001b[1;33m.\u001b[0m\u001b[0mmean\u001b[0m\u001b[1;33m(\u001b[0m\u001b[0maxis\u001b[0m\u001b[1;33m=\u001b[0m\u001b[1;36m0\u001b[0m\u001b[1;33m)\u001b[0m\u001b[1;33m\u001b[0m\u001b[1;33m\u001b[0m\u001b[0m\n\u001b[0m\u001b[0;32m      2\u001b[0m \u001b[0mprint\u001b[0m \u001b[1;33m(\u001b[0m\u001b[1;34m\"La media de perdidas Normalizadas es: \"\u001b[0m\u001b[1;33m,\u001b[0m \u001b[0mavg_norm\u001b[0m\u001b[1;33m)\u001b[0m\u001b[1;33m\u001b[0m\u001b[1;33m\u001b[0m\u001b[0m\n",
      "\u001b[1;32m~\\anaconda3\\lib\\site-packages\\pandas\\core\\frame.py\u001b[0m in \u001b[0;36m__getitem__\u001b[1;34m(self, key)\u001b[0m\n\u001b[0;32m   3022\u001b[0m             \u001b[1;32mif\u001b[0m \u001b[0mself\u001b[0m\u001b[1;33m.\u001b[0m\u001b[0mcolumns\u001b[0m\u001b[1;33m.\u001b[0m\u001b[0mnlevels\u001b[0m \u001b[1;33m>\u001b[0m \u001b[1;36m1\u001b[0m\u001b[1;33m:\u001b[0m\u001b[1;33m\u001b[0m\u001b[1;33m\u001b[0m\u001b[0m\n\u001b[0;32m   3023\u001b[0m                 \u001b[1;32mreturn\u001b[0m \u001b[0mself\u001b[0m\u001b[1;33m.\u001b[0m\u001b[0m_getitem_multilevel\u001b[0m\u001b[1;33m(\u001b[0m\u001b[0mkey\u001b[0m\u001b[1;33m)\u001b[0m\u001b[1;33m\u001b[0m\u001b[1;33m\u001b[0m\u001b[0m\n\u001b[1;32m-> 3024\u001b[1;33m             \u001b[0mindexer\u001b[0m \u001b[1;33m=\u001b[0m \u001b[0mself\u001b[0m\u001b[1;33m.\u001b[0m\u001b[0mcolumns\u001b[0m\u001b[1;33m.\u001b[0m\u001b[0mget_loc\u001b[0m\u001b[1;33m(\u001b[0m\u001b[0mkey\u001b[0m\u001b[1;33m)\u001b[0m\u001b[1;33m\u001b[0m\u001b[1;33m\u001b[0m\u001b[0m\n\u001b[0m\u001b[0;32m   3025\u001b[0m             \u001b[1;32mif\u001b[0m \u001b[0mis_integer\u001b[0m\u001b[1;33m(\u001b[0m\u001b[0mindexer\u001b[0m\u001b[1;33m)\u001b[0m\u001b[1;33m:\u001b[0m\u001b[1;33m\u001b[0m\u001b[1;33m\u001b[0m\u001b[0m\n\u001b[0;32m   3026\u001b[0m                 \u001b[0mindexer\u001b[0m \u001b[1;33m=\u001b[0m \u001b[1;33m[\u001b[0m\u001b[0mindexer\u001b[0m\u001b[1;33m]\u001b[0m\u001b[1;33m\u001b[0m\u001b[1;33m\u001b[0m\u001b[0m\n",
      "\u001b[1;32m~\\anaconda3\\lib\\site-packages\\pandas\\core\\indexes\\base.py\u001b[0m in \u001b[0;36mget_loc\u001b[1;34m(self, key, method, tolerance)\u001b[0m\n\u001b[0;32m   3080\u001b[0m                 \u001b[1;32mreturn\u001b[0m \u001b[0mself\u001b[0m\u001b[1;33m.\u001b[0m\u001b[0m_engine\u001b[0m\u001b[1;33m.\u001b[0m\u001b[0mget_loc\u001b[0m\u001b[1;33m(\u001b[0m\u001b[0mcasted_key\u001b[0m\u001b[1;33m)\u001b[0m\u001b[1;33m\u001b[0m\u001b[1;33m\u001b[0m\u001b[0m\n\u001b[0;32m   3081\u001b[0m             \u001b[1;32mexcept\u001b[0m \u001b[0mKeyError\u001b[0m \u001b[1;32mas\u001b[0m \u001b[0merr\u001b[0m\u001b[1;33m:\u001b[0m\u001b[1;33m\u001b[0m\u001b[1;33m\u001b[0m\u001b[0m\n\u001b[1;32m-> 3082\u001b[1;33m                 \u001b[1;32mraise\u001b[0m \u001b[0mKeyError\u001b[0m\u001b[1;33m(\u001b[0m\u001b[0mkey\u001b[0m\u001b[1;33m)\u001b[0m \u001b[1;32mfrom\u001b[0m \u001b[0merr\u001b[0m\u001b[1;33m\u001b[0m\u001b[1;33m\u001b[0m\u001b[0m\n\u001b[0m\u001b[0;32m   3083\u001b[0m \u001b[1;33m\u001b[0m\u001b[0m\n\u001b[0;32m   3084\u001b[0m         \u001b[1;32mif\u001b[0m \u001b[0mtolerance\u001b[0m \u001b[1;32mis\u001b[0m \u001b[1;32mnot\u001b[0m \u001b[1;32mNone\u001b[0m\u001b[1;33m:\u001b[0m\u001b[1;33m\u001b[0m\u001b[1;33m\u001b[0m\u001b[0m\n",
      "\u001b[1;31mKeyError\u001b[0m: 'perdidasNormalizadas'"
     ]
    }
   ],
   "source": [
    "avg_norm = dataset[\"perdidasNormalizadas\"].astype(\"float\").mean(axis=0)\n",
    "print (\"La media de perdidas Normalizadas es: \", avg_norm)"
   ]
  },
  {
   "cell_type": "code",
   "execution_count": 156,
   "id": "3a94cc4f",
   "metadata": {},
   "outputs": [
    {
     "ename": "SyntaxError",
     "evalue": "invalid syntax (<ipython-input-156-458a02b9a992>, line 1)",
     "output_type": "error",
     "traceback": [
      "\u001b[1;36m  File \u001b[1;32m\"<ipython-input-156-458a02b9a992>\"\u001b[1;36m, line \u001b[1;32m1\u001b[0m\n\u001b[1;33m    <h3 style=\"color: #2F4F4F\"> 2.4 Imputar valores String con el más frecuente</h3>\u001b[0m\n\u001b[1;37m    ^\u001b[0m\n\u001b[1;31mSyntaxError\u001b[0m\u001b[1;31m:\u001b[0m invalid syntax\n"
     ]
    }
   ],
   "source": [
    "<h3 style=\"color: #2F4F4F\"> 2.4 Imputar valores String con el más frecuente</h3>"
   ]
  },
  {
   "cell_type": "code",
   "execution_count": 157,
   "id": "62c6dd4b",
   "metadata": {},
   "outputs": [
    {
     "data": {
      "text/plain": [
       "'Pass'"
      ]
     },
     "execution_count": 157,
     "metadata": {},
     "output_type": "execute_result"
    }
   ],
   "source": [
    "dataset[\"QA Rating\"].value_counts().idxmax()"
   ]
  },
  {
   "cell_type": "code",
   "execution_count": 158,
   "id": "30ae344a",
   "metadata": {},
   "outputs": [
    {
     "ename": "NameError",
     "evalue": "name 'dfSetAutos' is not defined",
     "output_type": "error",
     "traceback": [
      "\u001b[1;31m---------------------------------------------------------------------------\u001b[0m",
      "\u001b[1;31mNameError\u001b[0m                                 Traceback (most recent call last)",
      "\u001b[1;32m<ipython-input-158-a805a462481f>\u001b[0m in \u001b[0;36m<module>\u001b[1;34m\u001b[0m\n\u001b[1;32m----> 1\u001b[1;33m \u001b[0mdfSetAutos\u001b[0m\u001b[1;33m[\u001b[0m\u001b[1;34m\"QA Rating\"\u001b[0m\u001b[1;33m]\u001b[0m\u001b[1;33m.\u001b[0m\u001b[0mreplace\u001b[0m\u001b[1;33m(\u001b[0m\u001b[0mnp\u001b[0m\u001b[1;33m.\u001b[0m\u001b[0mnan\u001b[0m\u001b[1;33m,\u001b[0m \u001b[1;34m'Pass'\u001b[0m\u001b[1;33m,\u001b[0m\u001b[0minplace\u001b[0m\u001b[1;33m=\u001b[0m\u001b[1;32mTrue\u001b[0m\u001b[1;33m)\u001b[0m\u001b[1;33m\u001b[0m\u001b[1;33m\u001b[0m\u001b[0m\n\u001b[0m\u001b[0;32m      2\u001b[0m \u001b[0mdfSetAutos\u001b[0m\u001b[1;33m.\u001b[0m\u001b[0mhead\u001b[0m\u001b[1;33m(\u001b[0m\u001b[1;36m10\u001b[0m\u001b[1;33m)\u001b[0m\u001b[1;33m\u001b[0m\u001b[1;33m\u001b[0m\u001b[0m\n",
      "\u001b[1;31mNameError\u001b[0m: name 'dfSetAutos' is not defined"
     ]
    }
   ],
   "source": [
    "dfSetAutos[\"QA Rating\"].replace(np.nan, 'Pass',inplace=True)\n",
    "dfSetAutos.head(10)"
   ]
  },
  {
   "cell_type": "code",
   "execution_count": null,
   "id": "65a1a450",
   "metadata": {},
   "outputs": [],
   "source": []
  },
  {
   "cell_type": "code",
   "execution_count": null,
   "id": "91fd3778",
   "metadata": {},
   "outputs": [],
   "source": []
  },
  {
   "cell_type": "code",
   "execution_count": null,
   "id": "6eab1ab2",
   "metadata": {},
   "outputs": [],
   "source": []
  }
 ],
 "metadata": {
  "kernelspec": {
   "display_name": "Python 3",
   "language": "python",
   "name": "python3"
  },
  "language_info": {
   "codemirror_mode": {
    "name": "ipython",
    "version": 3
   },
   "file_extension": ".py",
   "mimetype": "text/x-python",
   "name": "python",
   "nbconvert_exporter": "python",
   "pygments_lexer": "ipython3",
   "version": "3.8.8"
  }
 },
 "nbformat": 4,
 "nbformat_minor": 5
}
